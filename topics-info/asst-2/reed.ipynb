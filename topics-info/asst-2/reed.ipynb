{
 "cells": [
  {
   "cell_type": "code",
   "execution_count": 1,
   "metadata": {},
   "outputs": [],
   "source": [
    "import numpy as np \n",
    "import matplotlib.pyplot as plt \n",
    "\n",
    "## constructing G matrix\n",
    "rm = []\n",
    "rm.append(np.ones(32))\n",
    "rm.append(np.tile([1,0],16))\n",
    "rm.append(np.tile([1,1,0,0],8))\n",
    "rm.append(np.tile(np.repeat([1,0],4),4))\n",
    "rm.append(np.tile(np.repeat([1,0],8),2))\n",
    "rm.append(np.repeat([1,0],16))\n",
    "\n",
    "n=32\n",
    "k=16\n",
    "# t=10\n",
    "\n",
    "for i in range(1,6):\n",
    "\tfor j in range(i+1,6):\n",
    "\t\trm.append(rm[i]^rm[j])\n",
    "rm = np.array(rm)"
   ]
  },
  {
   "cell_type": "code",
   "execution_count": 2,
   "metadata": {},
   "outputs": [
    {
     "name": "stdout",
     "output_type": "stream",
     "text": [
      "(16, 16)\n"
     ]
    }
   ],
   "source": [
    "print(rm[:,:16].shape)"
   ]
  },
  {
   "cell_type": "code",
   "execution_count": 3,
   "metadata": {},
   "outputs": [],
   "source": [
    "samps = 1e5"
   ]
  },
  {
   "cell_type": "code",
   "execution_count": 4,
   "metadata": {},
   "outputs": [
    {
     "name": "stdout",
     "output_type": "stream",
     "text": [
      "0.18885\n",
      "0.09871\n",
      "0.04763\n",
      "0.02202\n",
      "0.00988\n"
     ]
    }
   ],
   "source": [
    "t = [0.9,1.0,1.1,1.2,1.3]\n",
    "vals = []\n",
    "for bound in t:\n",
    "    count = 0\n",
    "    for i in range(int(100000)):\n",
    "        times = np.random.exponential(1,32)\n",
    "        args = np.argsort(times)\n",
    "        j=0\n",
    "        while (np.linalg.matrix_rank(rm[:,args[:16+j]]) != 16):\n",
    "            j = j+1   \n",
    "        time_taken = times[args[15+j]]\n",
    "        if(time_taken > bound):\n",
    "            count = count+1\n",
    "    print(count*1.0/100000)\n",
    "    vals.append(count*1.0/100000)"
   ]
  },
  {
   "cell_type": "code",
   "execution_count": 6,
   "metadata": {},
   "outputs": [
    {
     "data": {
      "image/png": "[encoded data removed]",
      "text/plain": [
       "<Figure size 432x288 with 1 Axes>"
      ]
     },
     "metadata": {
      "needs_background": "light"
     },
     "output_type": "display_data"
    }
   ],
   "source": [
    "plt.semilogy(t, vals)\n",
    "plt.xlabel('t')\n",
    "plt.ylabel('cdf')\n",
    "plt.grid(True)\n",
    "plt.show()"
   ]
  }
 ],
 "metadata": {
  "kernelspec": {
   "display_name": "Python 3",
   "language": "python",
   "name": "python3"
  },
  "language_info": {
   "codemirror_mode": {
    "name": "ipython",
    "version": 3
   },
   "file_extension": ".py",
   "mimetype": "text/x-python",
   "name": "python",
   "nbconvert_exporter": "python",
   "pygments_lexer": "ipython3",
   "version": "3.5.2"
  }
 },
 "nbformat": 4,
 "nbformat_minor": 2
}
