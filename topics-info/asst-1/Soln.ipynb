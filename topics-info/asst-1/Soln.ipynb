{
 "cells": [
  {
   "cell_type": "code",
   "execution_count": 1,
   "metadata": {},
   "outputs": [
    {
     "name": "stdout",
     "output_type": "stream",
     "text": [
      "0.889231\n"
     ]
    }
   ],
   "source": [
    "import numpy as np \n",
    "\n",
    "### for mds codes\n",
    "samps = 1e6\n",
    "time = np.random.exponential(1,(int(samps),32))\n",
    "\n",
    "time.sort(axis=1)\n",
    "\n",
    "run_times = time[:,25].reshape(-1,1)\n",
    "\n",
    "temp = run_times\n",
    "temp[temp<1.2]=0\n",
    "temp[temp>=1.2]=1\n",
    "print(np.sum(temp)/samps)\n"
   ]
  },
  {
   "cell_type": "code",
   "execution_count": 4,
   "metadata": {},
   "outputs": [],
   "source": [
    "rm = []\n",
    "rm.append(np.ones(32))\n",
    "rm.append(np.tile([1,0],16))\n",
    "rm.append(np.tile([1,1,0,0],8))\n",
    "rm.append(np.tile(np.repeat([1,0],4),4))\n",
    "rm.append(np.tile(np.repeat([1,0],8),2))\n",
    "rm.append(np.repeat([1,0],16))\n",
    "\n",
    "n=32\n",
    "k=16"
   ]
  },
  {
   "cell_type": "code",
   "execution_count": null,
   "metadata": {},
   "outputs": [],
   "source": []
  },
  {
   "cell_type": "code",
   "execution_count": 9,
   "metadata": {},
   "outputs": [
    {
     "data": {
      "image/png": "[encoded data removed]",
      "text/plain": [
       "<Figure size 432x288 with 1 Axes>"
      ]
     },
     "metadata": {
      "needs_background": "light"
     },
     "output_type": "display_data"
    }
   ],
   "source": [
    "# count = np.array(count)\n",
    "# plt.semilogx(count)\n",
    "# plt.xlabel(\"t\")\n",
    "# plt.ylabel(\"frac\")\n",
    "# plt.show()"
   ]
  }
 ],
 "metadata": {
  "kernelspec": {
   "display_name": "Python 2",
   "language": "python",
   "name": "python2"
  },
  "language_info": {
   "codemirror_mode": {
    "name": "ipython",
    "version": 3
   },
   "file_extension": ".py",
   "mimetype": "text/x-python",
   "name": "python",
   "nbconvert_exporter": "python",
   "pygments_lexer": "ipython3",
   "version": "3.5.2"
  }
 },
 "nbformat": 4,
 "nbformat_minor": 2
}
